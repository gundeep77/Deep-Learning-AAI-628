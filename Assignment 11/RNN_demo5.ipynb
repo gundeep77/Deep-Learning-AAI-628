{
  "cells": [
    {
      "cell_type": "code",
      "execution_count": 1,
      "metadata": {
        "colab": {
          "base_uri": "https://localhost:8080/"
        },
        "id": "HKyDiZF7G0RH",
        "outputId": "58e9869d-56a3-41f1-de8c-c647fe8f9675"
      },
      "outputs": [
        {
          "output_type": "stream",
          "name": "stdout",
          "text": [
            "\u001b[?25l\r\u001b[K     |▎                               | 10 kB 835 kB/s eta 0:00:02\r\u001b[K     |▋                               | 20 kB 1.6 MB/s eta 0:00:01\r\u001b[K     |▉                               | 30 kB 2.1 MB/s eta 0:00:01\r\u001b[K     |█▏                              | 40 kB 2.8 MB/s eta 0:00:01\r\u001b[K     |█▌                              | 51 kB 2.9 MB/s eta 0:00:01\r\u001b[K     |█▊                              | 61 kB 3.4 MB/s eta 0:00:01\r\u001b[K     |██                              | 71 kB 3.9 MB/s eta 0:00:01\r\u001b[K     |██▍                             | 81 kB 3.2 MB/s eta 0:00:01\r\u001b[K     |██▋                             | 92 kB 3.6 MB/s eta 0:00:01\r\u001b[K     |███                             | 102 kB 4.0 MB/s eta 0:00:01\r\u001b[K     |███▏                            | 112 kB 4.0 MB/s eta 0:00:01\r\u001b[K     |███▌                            | 122 kB 4.0 MB/s eta 0:00:01\r\u001b[K     |███▉                            | 133 kB 4.0 MB/s eta 0:00:01\r\u001b[K     |████                            | 143 kB 4.0 MB/s eta 0:00:01\r\u001b[K     |████▍                           | 153 kB 4.0 MB/s eta 0:00:01\r\u001b[K     |████▊                           | 163 kB 4.0 MB/s eta 0:00:01\r\u001b[K     |█████                           | 174 kB 4.0 MB/s eta 0:00:01\r\u001b[K     |█████▎                          | 184 kB 4.0 MB/s eta 0:00:01\r\u001b[K     |█████▌                          | 194 kB 4.0 MB/s eta 0:00:01\r\u001b[K     |█████▉                          | 204 kB 4.0 MB/s eta 0:00:01\r\u001b[K     |██████▏                         | 215 kB 4.0 MB/s eta 0:00:01\r\u001b[K     |██████▍                         | 225 kB 4.0 MB/s eta 0:00:01\r\u001b[K     |██████▊                         | 235 kB 4.0 MB/s eta 0:00:01\r\u001b[K     |███████                         | 245 kB 4.0 MB/s eta 0:00:01\r\u001b[K     |███████▎                        | 256 kB 4.0 MB/s eta 0:00:01\r\u001b[K     |███████▋                        | 266 kB 4.0 MB/s eta 0:00:01\r\u001b[K     |███████▉                        | 276 kB 4.0 MB/s eta 0:00:01\r\u001b[K     |████████▏                       | 286 kB 4.0 MB/s eta 0:00:01\r\u001b[K     |████████▌                       | 296 kB 4.0 MB/s eta 0:00:01\r\u001b[K     |████████▊                       | 307 kB 4.0 MB/s eta 0:00:01\r\u001b[K     |█████████                       | 317 kB 4.0 MB/s eta 0:00:01\r\u001b[K     |█████████▍                      | 327 kB 4.0 MB/s eta 0:00:01\r\u001b[K     |█████████▋                      | 337 kB 4.0 MB/s eta 0:00:01\r\u001b[K     |██████████                      | 348 kB 4.0 MB/s eta 0:00:01\r\u001b[K     |██████████▏                     | 358 kB 4.0 MB/s eta 0:00:01\r\u001b[K     |██████████▌                     | 368 kB 4.0 MB/s eta 0:00:01\r\u001b[K     |██████████▉                     | 378 kB 4.0 MB/s eta 0:00:01\r\u001b[K     |███████████                     | 389 kB 4.0 MB/s eta 0:00:01\r\u001b[K     |███████████▍                    | 399 kB 4.0 MB/s eta 0:00:01\r\u001b[K     |███████████▊                    | 409 kB 4.0 MB/s eta 0:00:01\r\u001b[K     |████████████                    | 419 kB 4.0 MB/s eta 0:00:01\r\u001b[K     |████████████▎                   | 430 kB 4.0 MB/s eta 0:00:01\r\u001b[K     |████████████▌                   | 440 kB 4.0 MB/s eta 0:00:01\r\u001b[K     |████████████▉                   | 450 kB 4.0 MB/s eta 0:00:01\r\u001b[K     |█████████████▏                  | 460 kB 4.0 MB/s eta 0:00:01\r\u001b[K     |█████████████▍                  | 471 kB 4.0 MB/s eta 0:00:01\r\u001b[K     |█████████████▊                  | 481 kB 4.0 MB/s eta 0:00:01\r\u001b[K     |██████████████                  | 491 kB 4.0 MB/s eta 0:00:01\r\u001b[K     |██████████████▎                 | 501 kB 4.0 MB/s eta 0:00:01\r\u001b[K     |██████████████▋                 | 512 kB 4.0 MB/s eta 0:00:01\r\u001b[K     |██████████████▉                 | 522 kB 4.0 MB/s eta 0:00:01\r\u001b[K     |███████████████▏                | 532 kB 4.0 MB/s eta 0:00:01\r\u001b[K     |███████████████▌                | 542 kB 4.0 MB/s eta 0:00:01\r\u001b[K     |███████████████▊                | 552 kB 4.0 MB/s eta 0:00:01\r\u001b[K     |████████████████                | 563 kB 4.0 MB/s eta 0:00:01\r\u001b[K     |████████████████▍               | 573 kB 4.0 MB/s eta 0:00:01\r\u001b[K     |████████████████▋               | 583 kB 4.0 MB/s eta 0:00:01\r\u001b[K     |█████████████████               | 593 kB 4.0 MB/s eta 0:00:01\r\u001b[K     |█████████████████▏              | 604 kB 4.0 MB/s eta 0:00:01\r\u001b[K     |█████████████████▌              | 614 kB 4.0 MB/s eta 0:00:01\r\u001b[K     |█████████████████▉              | 624 kB 4.0 MB/s eta 0:00:01\r\u001b[K     |██████████████████              | 634 kB 4.0 MB/s eta 0:00:01\r\u001b[K     |██████████████████▍             | 645 kB 4.0 MB/s eta 0:00:01\r\u001b[K     |██████████████████▊             | 655 kB 4.0 MB/s eta 0:00:01\r\u001b[K     |███████████████████             | 665 kB 4.0 MB/s eta 0:00:01\r\u001b[K     |███████████████████▎            | 675 kB 4.0 MB/s eta 0:00:01\r\u001b[K     |███████████████████▌            | 686 kB 4.0 MB/s eta 0:00:01\r\u001b[K     |███████████████████▉            | 696 kB 4.0 MB/s eta 0:00:01\r\u001b[K     |████████████████████▏           | 706 kB 4.0 MB/s eta 0:00:01\r\u001b[K     |████████████████████▍           | 716 kB 4.0 MB/s eta 0:00:01\r\u001b[K     |████████████████████▊           | 727 kB 4.0 MB/s eta 0:00:01\r\u001b[K     |█████████████████████           | 737 kB 4.0 MB/s eta 0:00:01\r\u001b[K     |█████████████████████▎          | 747 kB 4.0 MB/s eta 0:00:01\r\u001b[K     |█████████████████████▋          | 757 kB 4.0 MB/s eta 0:00:01\r\u001b[K     |█████████████████████▉          | 768 kB 4.0 MB/s eta 0:00:01\r\u001b[K     |██████████████████████▏         | 778 kB 4.0 MB/s eta 0:00:01\r\u001b[K     |██████████████████████▌         | 788 kB 4.0 MB/s eta 0:00:01\r\u001b[K     |██████████████████████▊         | 798 kB 4.0 MB/s eta 0:00:01\r\u001b[K     |███████████████████████         | 808 kB 4.0 MB/s eta 0:00:01\r\u001b[K     |███████████████████████▍        | 819 kB 4.0 MB/s eta 0:00:01\r\u001b[K     |███████████████████████▋        | 829 kB 4.0 MB/s eta 0:00:01\r\u001b[K     |████████████████████████        | 839 kB 4.0 MB/s eta 0:00:01\r\u001b[K     |████████████████████████▏       | 849 kB 4.0 MB/s eta 0:00:01\r\u001b[K     |████████████████████████▌       | 860 kB 4.0 MB/s eta 0:00:01\r\u001b[K     |████████████████████████▉       | 870 kB 4.0 MB/s eta 0:00:01\r\u001b[K     |█████████████████████████       | 880 kB 4.0 MB/s eta 0:00:01\r\u001b[K     |█████████████████████████▍      | 890 kB 4.0 MB/s eta 0:00:01\r\u001b[K     |█████████████████████████▊      | 901 kB 4.0 MB/s eta 0:00:01\r\u001b[K     |██████████████████████████      | 911 kB 4.0 MB/s eta 0:00:01\r\u001b[K     |██████████████████████████▎     | 921 kB 4.0 MB/s eta 0:00:01\r\u001b[K     |██████████████████████████▌     | 931 kB 4.0 MB/s eta 0:00:01\r\u001b[K     |██████████████████████████▉     | 942 kB 4.0 MB/s eta 0:00:01\r\u001b[K     |███████████████████████████▏    | 952 kB 4.0 MB/s eta 0:00:01\r\u001b[K     |███████████████████████████▍    | 962 kB 4.0 MB/s eta 0:00:01\r\u001b[K     |███████████████████████████▊    | 972 kB 4.0 MB/s eta 0:00:01\r\u001b[K     |████████████████████████████    | 983 kB 4.0 MB/s eta 0:00:01\r\u001b[K     |████████████████████████████▎   | 993 kB 4.0 MB/s eta 0:00:01\r\u001b[K     |████████████████████████████▋   | 1.0 MB 4.0 MB/s eta 0:00:01\r\u001b[K     |████████████████████████████▉   | 1.0 MB 4.0 MB/s eta 0:00:01\r\u001b[K     |█████████████████████████████▏  | 1.0 MB 4.0 MB/s eta 0:00:01\r\u001b[K     |█████████████████████████████▌  | 1.0 MB 4.0 MB/s eta 0:00:01\r\u001b[K     |█████████████████████████████▊  | 1.0 MB 4.0 MB/s eta 0:00:01\r\u001b[K     |██████████████████████████████  | 1.1 MB 4.0 MB/s eta 0:00:01\r\u001b[K     |██████████████████████████████▍ | 1.1 MB 4.0 MB/s eta 0:00:01\r\u001b[K     |██████████████████████████████▋ | 1.1 MB 4.0 MB/s eta 0:00:01\r\u001b[K     |███████████████████████████████ | 1.1 MB 4.0 MB/s eta 0:00:01\r\u001b[K     |███████████████████████████████▏| 1.1 MB 4.0 MB/s eta 0:00:01\r\u001b[K     |███████████████████████████████▌| 1.1 MB 4.0 MB/s eta 0:00:01\r\u001b[K     |███████████████████████████████▉| 1.1 MB 4.0 MB/s eta 0:00:01\r\u001b[K     |████████████████████████████████| 1.1 MB 4.0 MB/s \n",
            "\u001b[?25hWARNING:tensorflow:From <ipython-input-1-a71e2dbfd47b>:22: is_gpu_available (from tensorflow.python.framework.test_util) is deprecated and will be removed in a future version.\n",
            "Instructions for updating:\n",
            "Use `tf.config.list_physical_devices('GPU')` instead.\n",
            "No GPU was detected. LSTMs and CNNs can be very slow without a GPU.\n",
            "Go to Runtime > Change runtime and select a GPU hardware accelerator.\n"
          ]
        }
      ],
      "source": [
        "# Python ≥3.5 is required\n",
        "import sys\n",
        "assert sys.version_info >= (3, 5)\n",
        "\n",
        "# Scikit-Learn ≥0.20 is required\n",
        "import sklearn\n",
        "assert sklearn.__version__ >= \"0.20\"\n",
        "\n",
        "try:\n",
        "    # %tensorflow_version only exists in Colab.\n",
        "    %tensorflow_version 2.x\n",
        "    !pip install -q -U tensorflow-addons\n",
        "    IS_COLAB = True\n",
        "except Exception:\n",
        "    IS_COLAB = False\n",
        "\n",
        "# TensorFlow ≥2.0 is required\n",
        "import tensorflow as tf\n",
        "from tensorflow import keras\n",
        "assert tf.__version__ >= \"2.0\"\n",
        "\n",
        "if not tf.test.is_gpu_available():\n",
        "    print(\"No GPU was detected. LSTMs and CNNs can be very slow without a GPU.\")\n",
        "    if IS_COLAB:\n",
        "        print(\"Go to Runtime > Change runtime and select a GPU hardware accelerator.\")\n",
        "\n",
        "# Common imports\n",
        "import numpy as np\n",
        "import os\n",
        "\n",
        "# to make this notebook's output stable across runs\n",
        "np.random.seed(42)\n",
        "tf.random.set_seed(42)\n",
        "\n",
        "# To plot pretty figures\n",
        "%matplotlib inline\n",
        "import matplotlib as mpl\n",
        "import matplotlib.pyplot as plt\n",
        "mpl.rc('axes', labelsize=14)\n",
        "mpl.rc('xtick', labelsize=12)\n",
        "mpl.rc('ytick', labelsize=12)\n",
        "\n",
        "# Where to save the figures\n",
        "PROJECT_ROOT_DIR = \".\"\n",
        "CHAPTER_ID = \"nlp\"\n",
        "IMAGES_PATH = os.path.join(PROJECT_ROOT_DIR, \"images\", CHAPTER_ID)\n",
        "os.makedirs(IMAGES_PATH, exist_ok=True)\n",
        "\n",
        "def save_fig(fig_id, tight_layout=True, fig_extension=\"png\", resolution=300):\n",
        "    path = os.path.join(IMAGES_PATH, fig_id + \".\" + fig_extension)\n",
        "    print(\"Saving figure\", fig_id)\n",
        "    if tight_layout:\n",
        "        plt.tight_layout()\n",
        "    plt.savefig(path, format=fig_extension, dpi=resolution)"
      ]
    },
    {
      "cell_type": "code",
      "execution_count": 2,
      "metadata": {
        "id": "8X0hG-4YG0RJ"
      },
      "outputs": [],
      "source": [
        "tf.random.set_seed(42)"
      ]
    },
    {
      "cell_type": "code",
      "execution_count": 3,
      "metadata": {
        "id": "W5FzsKkpG0RJ"
      },
      "outputs": [],
      "source": [
        "vocab_size = 100\n",
        "embed_size = 10"
      ]
    },
    {
      "cell_type": "code",
      "execution_count": 4,
      "metadata": {
        "id": "etOfkJyfG0RJ"
      },
      "outputs": [],
      "source": [
        "import tensorflow_addons as tfa\n",
        "\n",
        "encoder_inputs = keras.layers.Input(shape=[None], dtype=np.int32)\n",
        "decoder_inputs = keras.layers.Input(shape=[None], dtype=np.int32)\n",
        "sequence_lengths = keras.layers.Input(shape=[], dtype=np.int32)\n",
        "\n",
        "embeddings = keras.layers.Embedding(vocab_size, embed_size)\n",
        "encoder_embeddings = embeddings(encoder_inputs)\n",
        "decoder_embeddings = embeddings(decoder_inputs)\n",
        "\n",
        "encoder = keras.layers.LSTM(512, return_state=True)\n",
        "encoder_outputs, state_h, state_c = encoder(encoder_embeddings)\n",
        "encoder_state = [state_h, state_c]\n",
        "\n",
        "sampler = tfa.seq2seq.sampler.TrainingSampler()\n",
        "\n",
        "decoder_cell = keras.layers.LSTMCell(512)\n",
        "output_layer = keras.layers.Dense(vocab_size)\n",
        "decoder = tfa.seq2seq.basic_decoder.BasicDecoder(decoder_cell, sampler,\n",
        "                                                 output_layer=output_layer)\n",
        "final_outputs, final_state, final_sequence_lengths = decoder(\n",
        "    decoder_embeddings, initial_state=encoder_state,\n",
        "    sequence_length=sequence_lengths)\n",
        "Y_proba = tf.nn.softmax(final_outputs.rnn_output)\n",
        "\n",
        "model = keras.models.Model(\n",
        "    inputs=[encoder_inputs, decoder_inputs, sequence_lengths],\n",
        "    outputs=[Y_proba])"
      ]
    },
    {
      "cell_type": "code",
      "execution_count": 5,
      "metadata": {
        "id": "yFzpmUNxG0RK"
      },
      "outputs": [],
      "source": [
        "model.compile(loss=\"sparse_categorical_crossentropy\", optimizer=\"adam\")\n"
      ]
    },
    {
      "cell_type": "code",
      "execution_count": 6,
      "metadata": {
        "colab": {
          "base_uri": "https://localhost:8080/"
        },
        "id": "qLnGW5BeG0RK",
        "outputId": "35df5fa2-476f-4104-c16e-f7a7eb1b3939"
      },
      "outputs": [
        {
          "output_type": "stream",
          "name": "stdout",
          "text": [
            "Epoch 1/2\n",
            "32/32 [==============================] - 21s 348ms/step - loss: 4.6052\n",
            "Epoch 2/2\n",
            "32/32 [==============================] - 11s 334ms/step - loss: 4.6037\n"
          ]
        }
      ],
      "source": [
        "X = np.random.randint(100, size=10*1000).reshape(1000, 10)\n",
        "Y = np.random.randint(100, size=15*1000).reshape(1000, 15)\n",
        "X_decoder = np.c_[np.zeros((1000, 1)), Y[:, :-1]]\n",
        "seq_lengths = np.full([1000], 15)\n",
        "\n",
        "history = model.fit([X, X_decoder, seq_lengths], Y, epochs=2)"
      ]
    }
  ],
  "metadata": {
    "kernelspec": {
      "display_name": "Python 3",
      "language": "python",
      "name": "python3"
    },
    "language_info": {
      "codemirror_mode": {
        "name": "ipython",
        "version": 3
      },
      "file_extension": ".py",
      "mimetype": "text/x-python",
      "name": "python",
      "nbconvert_exporter": "python",
      "pygments_lexer": "ipython3",
      "version": "3.6.5"
    },
    "colab": {
      "name": "RNN_demo5.ipynb",
      "provenance": [],
      "collapsed_sections": []
    }
  },
  "nbformat": 4,
  "nbformat_minor": 0
}