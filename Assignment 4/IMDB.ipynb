{
 "cells": [
  {
   "cell_type": "markdown",
   "metadata": {},
   "source": [
    "## Part 1"
   ]
  },
  {
   "cell_type": "code",
   "execution_count": 151,
   "metadata": {},
   "outputs": [],
   "source": [
    "from sklearn.model_selection import train_test_split\n",
    "import matplotlib.pyplot as plt\n",
    "from keras.datasets import imdb \n",
    "(train_data, train_labels),(test_data, test_labels) = imdb.load_data(num_words=10000)"
   ]
  },
  {
   "cell_type": "code",
   "execution_count": 152,
   "metadata": {},
   "outputs": [],
   "source": [
    "train_data, val_data, train_labels, val_labels = train_test_split(train_data, train_labels, test_size=0.2)"
   ]
  },
  {
   "cell_type": "code",
   "execution_count": 153,
   "metadata": {},
   "outputs": [
    {
     "data": {
      "text/plain": [
       "[1,\n",
       " 13,\n",
       " 119,\n",
       " 14,\n",
       " 20,\n",
       " 3836,\n",
       " 2517,\n",
       " 385,\n",
       " 46,\n",
       " 4,\n",
       " 291,\n",
       " 13,\n",
       " 16,\n",
       " 1447,\n",
       " 5,\n",
       " 12,\n",
       " 47,\n",
       " 69,\n",
       " 61,\n",
       " 483,\n",
       " 237,\n",
       " 13,\n",
       " 70,\n",
       " 377,\n",
       " 1891,\n",
       " 9,\n",
       " 38,\n",
       " 2706,\n",
       " 11,\n",
       " 14,\n",
       " 20,\n",
       " 13,\n",
       " 435,\n",
       " 8,\n",
       " 6,\n",
       " 318,\n",
       " 800,\n",
       " 7,\n",
       " 3836,\n",
       " 2517,\n",
       " 236,\n",
       " 314,\n",
       " 5,\n",
       " 12,\n",
       " 16,\n",
       " 40,\n",
       " 6,\n",
       " 3252,\n",
       " 13,\n",
       " 16,\n",
       " 1264,\n",
       " 8,\n",
       " 67,\n",
       " 49,\n",
       " 283,\n",
       " 451,\n",
       " 1203,\n",
       " 14,\n",
       " 20,\n",
       " 9,\n",
       " 38,\n",
       " 2,\n",
       " 12,\n",
       " 9,\n",
       " 66,\n",
       " 31,\n",
       " 7,\n",
       " 4,\n",
       " 833,\n",
       " 102,\n",
       " 7,\n",
       " 32,\n",
       " 58,\n",
       " 4,\n",
       " 228,\n",
       " 9,\n",
       " 2,\n",
       " 4,\n",
       " 20,\n",
       " 9,\n",
       " 44,\n",
       " 4,\n",
       " 554,\n",
       " 256,\n",
       " 34,\n",
       " 1891,\n",
       " 27,\n",
       " 223,\n",
       " 9,\n",
       " 5216,\n",
       " 27,\n",
       " 1143,\n",
       " 9,\n",
       " 4,\n",
       " 2,\n",
       " 511,\n",
       " 11,\n",
       " 513,\n",
       " 5,\n",
       " 29,\n",
       " 47,\n",
       " 27,\n",
       " 523,\n",
       " 23,\n",
       " 4,\n",
       " 2,\n",
       " 35,\n",
       " 5320,\n",
       " 1950,\n",
       " 50,\n",
       " 9,\n",
       " 57,\n",
       " 888,\n",
       " 138,\n",
       " 3836,\n",
       " 9,\n",
       " 61,\n",
       " 514,\n",
       " 1399,\n",
       " 13,\n",
       " 70,\n",
       " 1294,\n",
       " 4,\n",
       " 554,\n",
       " 18,\n",
       " 15,\n",
       " 38,\n",
       " 48,\n",
       " 25,\n",
       " 28,\n",
       " 24,\n",
       " 110,\n",
       " 14,\n",
       " 95,\n",
       " 25,\n",
       " 26,\n",
       " 359,\n",
       " 8,\n",
       " 2,\n",
       " 14,\n",
       " 9,\n",
       " 6,\n",
       " 356,\n",
       " 2]"
      ]
     },
     "execution_count": 153,
     "metadata": {},
     "output_type": "execute_result"
    }
   ],
   "source": [
    "train_data[0]"
   ]
  },
  {
   "cell_type": "code",
   "execution_count": 154,
   "metadata": {},
   "outputs": [
    {
     "data": {
      "text/plain": [
       "array([1, 1, 0, 1, 0, 0, 1, 0, 1, 1, 0, 1, 0, 1, 1, 1, 1, 0, 1, 0])"
      ]
     },
     "execution_count": 154,
     "metadata": {},
     "output_type": "execute_result"
    }
   ],
   "source": [
    "train_labels[0:20]"
   ]
  },
  {
   "cell_type": "code",
   "execution_count": 155,
   "metadata": {},
   "outputs": [],
   "source": [
    "import numpy as np\n",
    "def vectorize_sequences(sequences, dimension=10000):\n",
    "    results = np.zeros((len(sequences), dimension))\n",
    "    for i, sequence in enumerate(sequences):\n",
    "        results[i, sequence] = 1.\n",
    "    return results\n"
   ]
  },
  {
   "cell_type": "code",
   "execution_count": 156,
   "metadata": {},
   "outputs": [],
   "source": [
    "x_train = vectorize_sequences(train_data) \n",
    "x_test = vectorize_sequences(test_data)\n",
    "\n",
    "y_train = np.asarray(train_labels).astype('float32')\n",
    "y_test = np.asarray(test_labels).astype('float32')"
   ]
  },
  {
   "cell_type": "code",
   "execution_count": 157,
   "metadata": {},
   "outputs": [],
   "source": [
    "x_val = x_train[:10000]\n",
    "partial_x_train = x_train[10000:]\n",
    "y_val = y_train[:10000]\n",
    "partial_y_train = y_train[10000:]"
   ]
  },
  {
   "cell_type": "code",
   "execution_count": 158,
   "metadata": {},
   "outputs": [],
   "source": [
    "from keras import models\n",
    "from keras import layers\n",
    "model = models.Sequential()\n",
    "model.add(layers.Dense(1, activation='sigmoid', input_shape=(10000,)))\n",
    "model.compile(optimizer=optimizers.RMSprop(learning_rate=0.001),\n",
    "              loss='binary_crossentropy',\n",
    "              metrics=['accuracy'])"
   ]
  },
  {
   "cell_type": "code",
   "execution_count": 159,
   "metadata": {},
   "outputs": [
    {
     "name": "stdout",
     "output_type": "stream",
     "text": [
      "Epoch 1/20\n",
      "625/625 [==============================] - 2s 3ms/step - loss: 0.4480 - accuracy: 0.8464 - val_loss: 0.3244 - val_accuracy: 0.8981\n",
      "Epoch 2/20\n",
      "625/625 [==============================] - 1s 1ms/step - loss: 0.2937 - accuracy: 0.8984 - val_loss: 0.2572 - val_accuracy: 0.9144\n",
      "Epoch 3/20\n",
      "625/625 [==============================] - 1s 1ms/step - loss: 0.2463 - accuracy: 0.9148 - val_loss: 0.2248 - val_accuracy: 0.9237\n",
      "Epoch 4/20\n",
      "625/625 [==============================] - 1s 1ms/step - loss: 0.2200 - accuracy: 0.9236 - val_loss: 0.2051 - val_accuracy: 0.9309\n",
      "Epoch 5/20\n",
      "625/625 [==============================] - 1s 1ms/step - loss: 0.2029 - accuracy: 0.9302 - val_loss: 0.1927 - val_accuracy: 0.9347\n",
      "Epoch 6/20\n",
      "625/625 [==============================] - 1s 1ms/step - loss: 0.1901 - accuracy: 0.9341 - val_loss: 0.1805 - val_accuracy: 0.9386\n",
      "Epoch 7/20\n",
      "625/625 [==============================] - 1s 1ms/step - loss: 0.1800 - accuracy: 0.9371 - val_loss: 0.1718 - val_accuracy: 0.9420\n",
      "Epoch 8/20\n",
      "625/625 [==============================] - 1s 1ms/step - loss: 0.1714 - accuracy: 0.9401 - val_loss: 0.1648 - val_accuracy: 0.9442\n",
      "Epoch 9/20\n",
      "625/625 [==============================] - 1s 967us/step - loss: 0.1646 - accuracy: 0.9426 - val_loss: 0.1594 - val_accuracy: 0.9452\n",
      "Epoch 10/20\n",
      "625/625 [==============================] - 1s 938us/step - loss: 0.1584 - accuracy: 0.9442 - val_loss: 0.1542 - val_accuracy: 0.9470\n",
      "Epoch 11/20\n",
      "625/625 [==============================] - 1s 924us/step - loss: 0.1534 - accuracy: 0.9469 - val_loss: 0.1491 - val_accuracy: 0.9495\n",
      "Epoch 12/20\n",
      "625/625 [==============================] - 1s 926us/step - loss: 0.1489 - accuracy: 0.9481 - val_loss: 0.1448 - val_accuracy: 0.9506\n",
      "Epoch 13/20\n",
      "625/625 [==============================] - 1s 935us/step - loss: 0.1449 - accuracy: 0.9493 - val_loss: 0.1416 - val_accuracy: 0.9514\n",
      "Epoch 14/20\n",
      "625/625 [==============================] - 1s 929us/step - loss: 0.1412 - accuracy: 0.9516 - val_loss: 0.1381 - val_accuracy: 0.9529\n",
      "Epoch 15/20\n",
      "625/625 [==============================] - 1s 1ms/step - loss: 0.1378 - accuracy: 0.9516 - val_loss: 0.1359 - val_accuracy: 0.9536\n",
      "Epoch 16/20\n",
      "625/625 [==============================] - 1s 1ms/step - loss: 0.1349 - accuracy: 0.9524 - val_loss: 0.1328 - val_accuracy: 0.9552\n",
      "Epoch 17/20\n",
      "625/625 [==============================] - 1s 1ms/step - loss: 0.1321 - accuracy: 0.9545 - val_loss: 0.1298 - val_accuracy: 0.9546\n",
      "Epoch 18/20\n",
      "625/625 [==============================] - 1s 1ms/step - loss: 0.1291 - accuracy: 0.9549 - val_loss: 0.1273 - val_accuracy: 0.9564\n",
      "Epoch 19/20\n",
      "625/625 [==============================] - 1s 1ms/step - loss: 0.1266 - accuracy: 0.9562 - val_loss: 0.1251 - val_accuracy: 0.9567\n",
      "Epoch 20/20\n",
      "625/625 [==============================] - 1s 944us/step - loss: 0.1247 - accuracy: 0.9570 - val_loss: 0.1230 - val_accuracy: 0.9580\n"
     ]
    }
   ],
   "source": [
    "history = model.fit(x_train, y_train, epochs=20, validation_data=(x_val, y_val))"
   ]
  },
  {
   "cell_type": "code",
   "execution_count": 160,
   "metadata": {},
   "outputs": [
    {
     "name": "stdout",
     "output_type": "stream",
     "text": [
      "782/782 [==============================] - 1s 778us/step - loss: 0.3210 - accuracy: 0.8806\n"
     ]
    },
    {
     "data": {
      "text/plain": [
       "[0.32098719477653503, 0.8805599808692932]"
      ]
     },
     "execution_count": 160,
     "metadata": {},
     "output_type": "execute_result"
    }
   ],
   "source": [
    "model.evaluate(x_test, y_test)"
   ]
  },
  {
   "cell_type": "code",
   "execution_count": 161,
   "metadata": {},
   "outputs": [
    {
     "data": {
      "image/png": "[encoded data removed]",
      "text/plain": [
       "<Figure size 432x288 with 1 Axes>"
      ]
     },
     "metadata": {
      "needs_background": "light"
     },
     "output_type": "display_data"
    }
   ],
   "source": [
    "history_dict = history.history\n",
    "loss_values = history_dict['loss']\n",
    "val_loss_values = history_dict['val_loss']\n",
    "acc_values = history_dict['accuracy']\n",
    "epochs = range(1, len(acc_values) + 1)\n",
    "plt.plot(epochs, loss_values, 'bo', label='Training loss')\n",
    "plt.plot(epochs, val_loss_values, 'b', label='Validation loss')\n",
    "plt.title('Training and validation loss')\n",
    "plt.xlabel('Epochs')\n",
    "plt.ylabel('Loss')\n",
    "plt.legend()\n",
    "plt.show()"
   ]
  },
  {
   "cell_type": "code",
   "execution_count": 162,
   "metadata": {},
   "outputs": [],
   "source": [
    "model = models.Sequential()\n",
    "model.add(layers.Dense(16, activation='relu', input_shape=(10000,)))\n",
    "model.add(layers.Dense(1, activation='sigmoid'))\n",
    "model.compile(optimizer=optimizers.RMSprop(learning_rate=0.001),\n",
    "              loss='binary_crossentropy',\n",
    "              metrics=['accuracy'])"
   ]
  },
  {
   "cell_type": "code",
   "execution_count": 163,
   "metadata": {},
   "outputs": [
    {
     "name": "stdout",
     "output_type": "stream",
     "text": [
      "Epoch 1/20\n",
      "625/625 [==============================] - 2s 3ms/step - loss: 0.3311 - accuracy: 0.8654 - val_loss: 0.1870 - val_accuracy: 0.9339\n",
      "Epoch 2/20\n",
      "625/625 [==============================] - 1s 2ms/step - loss: 0.2032 - accuracy: 0.9213 - val_loss: 0.1507 - val_accuracy: 0.9479\n",
      "Epoch 3/20\n",
      "625/625 [==============================] - 2s 3ms/step - loss: 0.1691 - accuracy: 0.9374 - val_loss: 0.1317 - val_accuracy: 0.9528\n",
      "Epoch 4/20\n",
      "625/625 [==============================] - 1s 2ms/step - loss: 0.1489 - accuracy: 0.9460 - val_loss: 0.1201 - val_accuracy: 0.9593\n",
      "Epoch 5/20\n",
      "625/625 [==============================] - 1s 2ms/step - loss: 0.1346 - accuracy: 0.9505 - val_loss: 0.1094 - val_accuracy: 0.9623\n",
      "Epoch 6/20\n",
      "625/625 [==============================] - 1s 2ms/step - loss: 0.1223 - accuracy: 0.9564 - val_loss: 0.0961 - val_accuracy: 0.9683\n",
      "Epoch 7/20\n",
      "625/625 [==============================] - 1s 2ms/step - loss: 0.1130 - accuracy: 0.9606 - val_loss: 0.0892 - val_accuracy: 0.9709\n",
      "Epoch 8/20\n",
      "625/625 [==============================] - 1s 2ms/step - loss: 0.1049 - accuracy: 0.9638 - val_loss: 0.0844 - val_accuracy: 0.9726\n",
      "Epoch 9/20\n",
      "625/625 [==============================] - 1s 2ms/step - loss: 0.0977 - accuracy: 0.9672 - val_loss: 0.0780 - val_accuracy: 0.9750\n",
      "Epoch 10/20\n",
      "625/625 [==============================] - 2s 3ms/step - loss: 0.0910 - accuracy: 0.9692 - val_loss: 0.0766 - val_accuracy: 0.9767\n",
      "Epoch 11/20\n",
      "625/625 [==============================] - 1s 2ms/step - loss: 0.0856 - accuracy: 0.9720 - val_loss: 0.0705 - val_accuracy: 0.9782\n",
      "Epoch 12/20\n",
      "625/625 [==============================] - 1s 2ms/step - loss: 0.0801 - accuracy: 0.9747 - val_loss: 0.0656 - val_accuracy: 0.9806\n",
      "Epoch 13/20\n",
      "625/625 [==============================] - 1s 2ms/step - loss: 0.0756 - accuracy: 0.9758 - val_loss: 0.0694 - val_accuracy: 0.9779\n",
      "Epoch 14/20\n",
      "625/625 [==============================] - 1s 2ms/step - loss: 0.0705 - accuracy: 0.9786 - val_loss: 0.0575 - val_accuracy: 0.9833\n",
      "Epoch 15/20\n",
      "625/625 [==============================] - 1s 2ms/step - loss: 0.0661 - accuracy: 0.9800 - val_loss: 0.0542 - val_accuracy: 0.9844\n",
      "Epoch 16/20\n",
      "625/625 [==============================] - 1s 2ms/step - loss: 0.0626 - accuracy: 0.9815 - val_loss: 0.0523 - val_accuracy: 0.9849\n",
      "Epoch 17/20\n",
      "625/625 [==============================] - 1s 2ms/step - loss: 0.0583 - accuracy: 0.9829 - val_loss: 0.0480 - val_accuracy: 0.9868\n",
      "Epoch 18/20\n",
      "625/625 [==============================] - 1s 2ms/step - loss: 0.0546 - accuracy: 0.9844 - val_loss: 0.0450 - val_accuracy: 0.9880\n",
      "Epoch 19/20\n",
      "625/625 [==============================] - 1s 2ms/step - loss: 0.0508 - accuracy: 0.9855 - val_loss: 0.0436 - val_accuracy: 0.9881\n",
      "Epoch 20/20\n",
      "625/625 [==============================] - 1s 2ms/step - loss: 0.0485 - accuracy: 0.9863 - val_loss: 0.0398 - val_accuracy: 0.9894\n"
     ]
    }
   ],
   "source": [
    "history = model.fit(x_train, y_train, epochs=20, validation_data=(x_val, y_val))"
   ]
  },
  {
   "cell_type": "code",
   "execution_count": 164,
   "metadata": {},
   "outputs": [
    {
     "name": "stdout",
     "output_type": "stream",
     "text": [
      "782/782 [==============================] - 1s 853us/step - loss: 0.8107 - accuracy: 0.8512\n"
     ]
    },
    {
     "data": {
      "text/plain": [
       "[0.810722827911377, 0.8511599898338318]"
      ]
     },
     "execution_count": 164,
     "metadata": {},
     "output_type": "execute_result"
    }
   ],
   "source": [
    "model.evaluate(x_test, y_test)"
   ]
  },
  {
   "cell_type": "code",
   "execution_count": 165,
   "metadata": {},
   "outputs": [
    {
     "data": {
      "image/png": "[encoded data removed]",
      "text/plain": [
       "<Figure size 432x288 with 1 Axes>"
      ]
     },
     "metadata": {
      "needs_background": "light"
     },
     "output_type": "display_data"
    }
   ],
   "source": [
    "history_dict = history.history\n",
    "loss_values = history_dict['loss']\n",
    "val_loss_values = history_dict['val_loss']\n",
    "acc_values = history_dict['accuracy']\n",
    "epochs = range(1, len(acc_values) + 1)\n",
    "plt.plot(epochs, loss_values, 'bo', label='Training loss')\n",
    "plt.plot(epochs, val_loss_values, 'b', label='Validation loss')\n",
    "plt.title('Training and validation loss')\n",
    "plt.xlabel('Epochs')\n",
    "plt.ylabel('Loss')\n",
    "plt.legend()\n",
    "plt.show()"
   ]
  },
  {
   "cell_type": "code",
   "execution_count": 166,
   "metadata": {},
   "outputs": [],
   "source": [
    "model = models.Sequential()\n",
    "model.add(layers.Dense(16, activation='relu', input_shape=(10000,)))\n",
    "model.add(layers.Dense(16, activation='relu'))\n",
    "model.add(layers.Dense(1, activation='sigmoid'))\n",
    "model.compile(optimizer=optimizers.RMSprop(learning_rate=0.001),\n",
    "              loss='binary_crossentropy',\n",
    "              metrics=['accuracy'])"
   ]
  },
  {
   "cell_type": "code",
   "execution_count": 167,
   "metadata": {},
   "outputs": [
    {
     "name": "stdout",
     "output_type": "stream",
     "text": [
      "Epoch 1/20\n",
      "625/625 [==============================] - 2s 3ms/step - loss: 0.3326 - accuracy: 0.8655 - val_loss: 0.2113 - val_accuracy: 0.9209\n",
      "Epoch 2/20\n",
      "625/625 [==============================] - 1s 2ms/step - loss: 0.2022 - accuracy: 0.9229 - val_loss: 0.1533 - val_accuracy: 0.9452\n",
      "Epoch 3/20\n",
      "625/625 [==============================] - 1s 2ms/step - loss: 0.1652 - accuracy: 0.9384 - val_loss: 0.1260 - val_accuracy: 0.9573\n",
      "Epoch 4/20\n",
      "625/625 [==============================] - 1s 2ms/step - loss: 0.1402 - accuracy: 0.9505 - val_loss: 0.1058 - val_accuracy: 0.9642\n",
      "Epoch 5/20\n",
      "625/625 [==============================] - 1s 2ms/step - loss: 0.1213 - accuracy: 0.9580 - val_loss: 0.0912 - val_accuracy: 0.9689\n",
      "Epoch 6/20\n",
      "625/625 [==============================] - 1s 2ms/step - loss: 0.1041 - accuracy: 0.9642 - val_loss: 0.0736 - val_accuracy: 0.9763\n",
      "Epoch 7/20\n",
      "625/625 [==============================] - 2s 3ms/step - loss: 0.0887 - accuracy: 0.9700 - val_loss: 0.0625 - val_accuracy: 0.9801\n",
      "Epoch 8/20\n",
      "625/625 [==============================] - 1s 2ms/step - loss: 0.0766 - accuracy: 0.9743 - val_loss: 0.0549 - val_accuracy: 0.9837\n",
      "Epoch 9/20\n",
      "625/625 [==============================] - 1s 2ms/step - loss: 0.0643 - accuracy: 0.9787 - val_loss: 0.0460 - val_accuracy: 0.9854\n",
      "Epoch 10/20\n",
      "625/625 [==============================] - 1s 2ms/step - loss: 0.0565 - accuracy: 0.9823 - val_loss: 0.0385 - val_accuracy: 0.9884\n",
      "Epoch 11/20\n",
      "625/625 [==============================] - 1s 2ms/step - loss: 0.0484 - accuracy: 0.9845 - val_loss: 0.0333 - val_accuracy: 0.9892\n",
      "Epoch 12/20\n",
      "625/625 [==============================] - 2s 3ms/step - loss: 0.0413 - accuracy: 0.9864 - val_loss: 0.0286 - val_accuracy: 0.9919\n",
      "Epoch 13/20\n",
      "625/625 [==============================] - 1s 2ms/step - loss: 0.0351 - accuracy: 0.9889 - val_loss: 0.0233 - val_accuracy: 0.9929\n",
      "Epoch 14/20\n",
      "625/625 [==============================] - 1s 2ms/step - loss: 0.0295 - accuracy: 0.9909 - val_loss: 0.0191 - val_accuracy: 0.9950\n",
      "Epoch 15/20\n",
      "625/625 [==============================] - 1s 2ms/step - loss: 0.0253 - accuracy: 0.9932 - val_loss: 0.0158 - val_accuracy: 0.9957\n",
      "Epoch 16/20\n",
      "625/625 [==============================] - 1s 2ms/step - loss: 0.0206 - accuracy: 0.9940 - val_loss: 0.0130 - val_accuracy: 0.9966\n",
      "Epoch 17/20\n",
      "625/625 [==============================] - 1s 2ms/step - loss: 0.0177 - accuracy: 0.9956 - val_loss: 0.0110 - val_accuracy: 0.9973\n",
      "Epoch 18/20\n",
      "625/625 [==============================] - 1s 2ms/step - loss: 0.0139 - accuracy: 0.9966 - val_loss: 0.0092 - val_accuracy: 0.9974\n",
      "Epoch 19/20\n",
      "625/625 [==============================] - 1s 2ms/step - loss: 0.0113 - accuracy: 0.9973 - val_loss: 0.0082 - val_accuracy: 0.9983\n",
      "Epoch 20/20\n",
      "625/625 [==============================] - 1s 2ms/step - loss: 0.0094 - accuracy: 0.9980 - val_loss: 0.0057 - val_accuracy: 0.9993\n"
     ]
    }
   ],
   "source": [
    "history = model.fit(x_train, y_train, epochs=20, validation_data=(x_val, y_val))"
   ]
  },
  {
   "cell_type": "code",
   "execution_count": 168,
   "metadata": {},
   "outputs": [
    {
     "name": "stdout",
     "output_type": "stream",
     "text": [
      "782/782 [==============================] - 1s 1ms/step - loss: 1.6504 - accuracy: 0.8496\n"
     ]
    },
    {
     "data": {
      "text/plain": [
       "[1.6504120826721191, 0.849560022354126]"
      ]
     },
     "execution_count": 168,
     "metadata": {},
     "output_type": "execute_result"
    }
   ],
   "source": [
    "model.evaluate(x_test, y_test)"
   ]
  },
  {
   "cell_type": "code",
   "execution_count": 169,
   "metadata": {},
   "outputs": [
    {
     "data": {
      "image/png": "[encoded data removed]",
      "text/plain": [
       "<Figure size 432x288 with 1 Axes>"
      ]
     },
     "metadata": {
      "needs_background": "light"
     },
     "output_type": "display_data"
    }
   ],
   "source": [
    "history_dict = history.history\n",
    "loss_values = history_dict['loss']\n",
    "val_loss_values = history_dict['val_loss']\n",
    "acc_values = history_dict['accuracy']\n",
    "epochs = range(1, len(acc_values) + 1)\n",
    "plt.plot(epochs, loss_values, 'bo', label='Training loss')\n",
    "plt.plot(epochs, val_loss_values, 'b', label='Validation loss')\n",
    "plt.title('Training and validation loss')\n",
    "plt.xlabel('Epochs')\n",
    "plt.ylabel('Loss')\n",
    "plt.legend()\n",
    "plt.show()"
   ]
  },
  {
   "cell_type": "code",
   "execution_count": 170,
   "metadata": {},
   "outputs": [],
   "source": [
    "model = models.Sequential()\n",
    "model.add(layers.Dense(32, activation='relu', input_shape=(10000,)))\n",
    "model.add(layers.Dense(1, activation='sigmoid'))\n",
    "model.compile(optimizer=optimizers.RMSprop(learning_rate=0.001),\n",
    "              loss='binary_crossentropy',\n",
    "              metrics=['accuracy'])"
   ]
  },
  {
   "cell_type": "code",
   "execution_count": 171,
   "metadata": {},
   "outputs": [
    {
     "name": "stdout",
     "output_type": "stream",
     "text": [
      "Epoch 1/20\n",
      "625/625 [==============================] - 2s 3ms/step - loss: 0.3195 - accuracy: 0.8702 - val_loss: 0.1733 - val_accuracy: 0.9387\n",
      "Epoch 2/20\n",
      "625/625 [==============================] - 1s 2ms/step - loss: 0.2012 - accuracy: 0.9238 - val_loss: 0.1428 - val_accuracy: 0.9495\n",
      "Epoch 3/20\n",
      "625/625 [==============================] - 1s 2ms/step - loss: 0.1661 - accuracy: 0.9385 - val_loss: 0.1225 - val_accuracy: 0.9586\n",
      "Epoch 4/20\n",
      "625/625 [==============================] - 2s 3ms/step - loss: 0.1414 - accuracy: 0.9481 - val_loss: 0.1041 - val_accuracy: 0.9637\n",
      "Epoch 5/20\n",
      "625/625 [==============================] - 1s 2ms/step - loss: 0.1231 - accuracy: 0.9572 - val_loss: 0.0962 - val_accuracy: 0.9683\n",
      "Epoch 6/20\n",
      "625/625 [==============================] - 1s 2ms/step - loss: 0.1098 - accuracy: 0.9617 - val_loss: 0.0904 - val_accuracy: 0.9684\n",
      "Epoch 7/20\n",
      "625/625 [==============================] - 1s 2ms/step - loss: 0.0978 - accuracy: 0.9677 - val_loss: 0.0796 - val_accuracy: 0.9756\n",
      "Epoch 8/20\n",
      "625/625 [==============================] - 1s 2ms/step - loss: 0.0883 - accuracy: 0.9711 - val_loss: 0.0684 - val_accuracy: 0.9769\n",
      "Epoch 9/20\n",
      "625/625 [==============================] - 1s 2ms/step - loss: 0.0792 - accuracy: 0.9749 - val_loss: 0.0598 - val_accuracy: 0.9816\n",
      "Epoch 10/20\n",
      "625/625 [==============================] - 1s 2ms/step - loss: 0.0711 - accuracy: 0.9776 - val_loss: 0.0549 - val_accuracy: 0.9836\n",
      "Epoch 11/20\n",
      "625/625 [==============================] - 2s 3ms/step - loss: 0.0628 - accuracy: 0.9808 - val_loss: 0.0512 - val_accuracy: 0.9839\n",
      "Epoch 12/20\n",
      "625/625 [==============================] - 2s 2ms/step - loss: 0.0564 - accuracy: 0.9833 - val_loss: 0.0423 - val_accuracy: 0.9875\n",
      "Epoch 13/20\n",
      "625/625 [==============================] - 1s 2ms/step - loss: 0.0505 - accuracy: 0.9852 - val_loss: 0.0394 - val_accuracy: 0.9891\n",
      "Epoch 14/20\n",
      "625/625 [==============================] - 2s 2ms/step - loss: 0.0460 - accuracy: 0.9867 - val_loss: 0.0328 - val_accuracy: 0.9913\n",
      "Epoch 15/20\n",
      "625/625 [==============================] - 1s 2ms/step - loss: 0.0411 - accuracy: 0.9883 - val_loss: 0.0306 - val_accuracy: 0.9920\n",
      "Epoch 16/20\n",
      "625/625 [==============================] - 1s 2ms/step - loss: 0.0364 - accuracy: 0.9899 - val_loss: 0.0252 - val_accuracy: 0.9931\n",
      "Epoch 17/20\n",
      "625/625 [==============================] - 1s 2ms/step - loss: 0.0322 - accuracy: 0.9913 - val_loss: 0.0220 - val_accuracy: 0.9938\n",
      "Epoch 18/20\n",
      "625/625 [==============================] - 2s 2ms/step - loss: 0.0284 - accuracy: 0.9927 - val_loss: 0.0186 - val_accuracy: 0.9953\n",
      "Epoch 19/20\n",
      "625/625 [==============================] - 2s 3ms/step - loss: 0.0258 - accuracy: 0.9935 - val_loss: 0.0164 - val_accuracy: 0.9955\n",
      "Epoch 20/20\n",
      "625/625 [==============================] - 2s 3ms/step - loss: 0.0222 - accuracy: 0.9944 - val_loss: 0.0141 - val_accuracy: 0.9965\n"
     ]
    }
   ],
   "source": [
    "history = model.fit(x_train, y_train, epochs=20, validation_data=(x_val, y_val))"
   ]
  },
  {
   "cell_type": "code",
   "execution_count": 172,
   "metadata": {},
   "outputs": [
    {
     "name": "stdout",
     "output_type": "stream",
     "text": [
      "782/782 [==============================] - 1s 1ms/step - loss: 1.2331 - accuracy: 0.8495\n"
     ]
    },
    {
     "data": {
      "text/plain": [
       "[1.233099341392517, 0.8494799733161926]"
      ]
     },
     "execution_count": 172,
     "metadata": {},
     "output_type": "execute_result"
    }
   ],
   "source": [
    "model.evaluate(x_test, y_test)"
   ]
  },
  {
   "cell_type": "code",
   "execution_count": 173,
   "metadata": {},
   "outputs": [
    {
     "data": {
      "image/png": "[encoded data removed]",
      "text/plain": [
       "<Figure size 432x288 with 1 Axes>"
      ]
     },
     "metadata": {
      "needs_background": "light"
     },
     "output_type": "display_data"
    }
   ],
   "source": [
    "history_dict = history.history\n",
    "loss_values = history_dict['loss']\n",
    "val_loss_values = history_dict['val_loss']\n",
    "acc_values = history_dict['accuracy']\n",
    "epochs = range(1, len(acc_values) + 1)\n",
    "plt.plot(epochs, loss_values, 'bo', label='Training loss')\n",
    "plt.plot(epochs, val_loss_values, 'b', label='Validation loss')\n",
    "plt.title('Training and validation loss')\n",
    "plt.xlabel('Epochs')\n",
    "plt.ylabel('Loss')\n",
    "plt.legend()\n",
    "plt.show()"
   ]
  },
  {
   "cell_type": "code",
   "execution_count": 174,
   "metadata": {},
   "outputs": [],
   "source": [
    "model = models.Sequential()\n",
    "model.add(layers.Dense(64, activation='relu', input_shape=(10000,)))\n",
    "model.add(layers.Dense(1, activation='sigmoid'))\n",
    "model.compile(optimizer=optimizers.RMSprop(learning_rate=0.001),\n",
    "              loss='binary_crossentropy',\n",
    "              metrics=['accuracy'])"
   ]
  },
  {
   "cell_type": "code",
   "execution_count": 175,
   "metadata": {},
   "outputs": [
    {
     "name": "stdout",
     "output_type": "stream",
     "text": [
      "Epoch 1/20\n",
      "625/625 [==============================] - 3s 5ms/step - loss: 0.3170 - accuracy: 0.8706 - val_loss: 0.1750 - val_accuracy: 0.9386\n",
      "Epoch 2/20\n",
      "625/625 [==============================] - 2s 4ms/step - loss: 0.1997 - accuracy: 0.9240 - val_loss: 0.1318 - val_accuracy: 0.9551\n",
      "Epoch 3/20\n",
      "625/625 [==============================] - 2s 3ms/step - loss: 0.1605 - accuracy: 0.9414 - val_loss: 0.1116 - val_accuracy: 0.9623\n",
      "Epoch 4/20\n",
      "625/625 [==============================] - 2s 3ms/step - loss: 0.1354 - accuracy: 0.9513 - val_loss: 0.0951 - val_accuracy: 0.9689\n",
      "Epoch 5/20\n",
      "625/625 [==============================] - 2s 3ms/step - loss: 0.1161 - accuracy: 0.9595 - val_loss: 0.0829 - val_accuracy: 0.9731\n",
      "Epoch 6/20\n",
      "625/625 [==============================] - 2s 3ms/step - loss: 0.1015 - accuracy: 0.9651 - val_loss: 0.0724 - val_accuracy: 0.9772\n",
      "Epoch 7/20\n",
      "625/625 [==============================] - 2s 3ms/step - loss: 0.0882 - accuracy: 0.9710 - val_loss: 0.0639 - val_accuracy: 0.9799\n",
      "Epoch 8/20\n",
      "625/625 [==============================] - 2s 3ms/step - loss: 0.0768 - accuracy: 0.9755 - val_loss: 0.0567 - val_accuracy: 0.9824\n",
      "Epoch 9/20\n",
      "625/625 [==============================] - 2s 3ms/step - loss: 0.0682 - accuracy: 0.9797 - val_loss: 0.0494 - val_accuracy: 0.9865\n",
      "Epoch 10/20\n",
      "625/625 [==============================] - 2s 3ms/step - loss: 0.0581 - accuracy: 0.9828 - val_loss: 0.0441 - val_accuracy: 0.9870\n",
      "Epoch 11/20\n",
      "625/625 [==============================] - 2s 3ms/step - loss: 0.0512 - accuracy: 0.9852 - val_loss: 0.0362 - val_accuracy: 0.9887\n",
      "Epoch 12/20\n",
      "625/625 [==============================] - 2s 3ms/step - loss: 0.0454 - accuracy: 0.9872 - val_loss: 0.0308 - val_accuracy: 0.9914\n",
      "Epoch 13/20\n",
      "625/625 [==============================] - 2s 3ms/step - loss: 0.0392 - accuracy: 0.9890 - val_loss: 0.0254 - val_accuracy: 0.9926\n",
      "Epoch 14/20\n",
      "625/625 [==============================] - 2s 3ms/step - loss: 0.0338 - accuracy: 0.9909 - val_loss: 0.0211 - val_accuracy: 0.9939\n",
      "Epoch 15/20\n",
      "625/625 [==============================] - 2s 3ms/step - loss: 0.0290 - accuracy: 0.9927 - val_loss: 0.0180 - val_accuracy: 0.9946\n",
      "Epoch 16/20\n",
      "625/625 [==============================] - 2s 3ms/step - loss: 0.0251 - accuracy: 0.9935 - val_loss: 0.0153 - val_accuracy: 0.9957\n",
      "Epoch 17/20\n",
      "625/625 [==============================] - 2s 4ms/step - loss: 0.0218 - accuracy: 0.9944 - val_loss: 0.0127 - val_accuracy: 0.9966\n",
      "Epoch 18/20\n",
      "625/625 [==============================] - 2s 3ms/step - loss: 0.0182 - accuracy: 0.9954 - val_loss: 0.0108 - val_accuracy: 0.9973\n",
      "Epoch 19/20\n",
      "625/625 [==============================] - 2s 3ms/step - loss: 0.0152 - accuracy: 0.9962 - val_loss: 0.0092 - val_accuracy: 0.9975\n",
      "Epoch 20/20\n",
      "625/625 [==============================] - 2s 4ms/step - loss: 0.0123 - accuracy: 0.9969 - val_loss: 0.0074 - val_accuracy: 0.9984\n"
     ]
    }
   ],
   "source": [
    "history = model.fit(x_train, y_train, epochs=20, validation_data=(x_val, y_val))"
   ]
  },
  {
   "cell_type": "code",
   "execution_count": 176,
   "metadata": {},
   "outputs": [
    {
     "name": "stdout",
     "output_type": "stream",
     "text": [
      "782/782 [==============================] - 1s 1ms/step - loss: 1.5529 - accuracy: 0.8524\n"
     ]
    },
    {
     "data": {
      "text/plain": [
       "[1.5529475212097168, 0.8523600101470947]"
      ]
     },
     "execution_count": 176,
     "metadata": {},
     "output_type": "execute_result"
    }
   ],
   "source": [
    "model.evaluate(x_test, y_test)"
   ]
  },
  {
   "cell_type": "code",
   "execution_count": 177,
   "metadata": {},
   "outputs": [
    {
     "data": {
      "image/png": "[encoded data removed]",
      "text/plain": [
       "<Figure size 432x288 with 1 Axes>"
      ]
     },
     "metadata": {
      "needs_background": "light"
     },
     "output_type": "display_data"
    }
   ],
   "source": [
    "history_dict = history.history\n",
    "loss_values = history_dict['loss']\n",
    "val_loss_values = history_dict['val_loss']\n",
    "acc_values = history_dict['accuracy']\n",
    "epochs = range(1, len(acc_values) + 1)\n",
    "plt.plot(epochs, loss_values, 'bo', label='Training loss')\n",
    "plt.plot(epochs, val_loss_values, 'b', label='Validation loss')\n",
    "plt.title('Training and validation loss')\n",
    "plt.xlabel('Epochs')\n",
    "plt.ylabel('Loss')\n",
    "plt.legend()\n",
    "plt.show()"
   ]
  },
  {
   "cell_type": "code",
   "execution_count": 178,
   "metadata": {},
   "outputs": [],
   "source": [
    "model = models.Sequential()\n",
    "model.add(layers.Dense(128, activation='relu', input_shape=(10000,)))\n",
    "model.add(layers.Dense(1, activation='sigmoid'))\n",
    "model.compile(optimizer=optimizers.RMSprop(learning_rate=0.001),\n",
    "              loss='binary_crossentropy',\n",
    "              metrics=['accuracy'])"
   ]
  },
  {
   "cell_type": "code",
   "execution_count": 179,
   "metadata": {},
   "outputs": [
    {
     "name": "stdout",
     "output_type": "stream",
     "text": [
      "Epoch 1/20\n",
      "625/625 [==============================] - 4s 7ms/step - loss: 0.3228 - accuracy: 0.8662 - val_loss: 0.1739 - val_accuracy: 0.9397\n",
      "Epoch 2/20\n",
      "625/625 [==============================] - 3s 6ms/step - loss: 0.1986 - accuracy: 0.9247 - val_loss: 0.1371 - val_accuracy: 0.9530\n",
      "Epoch 3/20\n",
      "625/625 [==============================] - 3s 5ms/step - loss: 0.1544 - accuracy: 0.9441 - val_loss: 0.1050 - val_accuracy: 0.9658\n",
      "Epoch 4/20\n",
      "625/625 [==============================] - 3s 4ms/step - loss: 0.1288 - accuracy: 0.9563 - val_loss: 0.0877 - val_accuracy: 0.9729\n",
      "Epoch 5/20\n",
      "625/625 [==============================] - 3s 5ms/step - loss: 0.1054 - accuracy: 0.9645 - val_loss: 0.0745 - val_accuracy: 0.9787\n",
      "Epoch 6/20\n",
      "625/625 [==============================] - 3s 5ms/step - loss: 0.0893 - accuracy: 0.9721 - val_loss: 0.0697 - val_accuracy: 0.9774\n",
      "Epoch 7/20\n",
      "625/625 [==============================] - 3s 4ms/step - loss: 0.0715 - accuracy: 0.9784 - val_loss: 0.0548 - val_accuracy: 0.9843\n",
      "Epoch 8/20\n",
      "625/625 [==============================] - 3s 4ms/step - loss: 0.0607 - accuracy: 0.9828 - val_loss: 0.0387 - val_accuracy: 0.9891\n",
      "Epoch 9/20\n",
      "625/625 [==============================] - 3s 5ms/step - loss: 0.0498 - accuracy: 0.9864 - val_loss: 0.0312 - val_accuracy: 0.9911\n",
      "Epoch 10/20\n",
      "625/625 [==============================] - 3s 5ms/step - loss: 0.0400 - accuracy: 0.9901 - val_loss: 0.0243 - val_accuracy: 0.9935\n",
      "Epoch 11/20\n",
      "625/625 [==============================] - 3s 5ms/step - loss: 0.0327 - accuracy: 0.9910 - val_loss: 0.0200 - val_accuracy: 0.9955\n",
      "Epoch 12/20\n",
      "625/625 [==============================] - 3s 5ms/step - loss: 0.0267 - accuracy: 0.9937 - val_loss: 0.0163 - val_accuracy: 0.9957\n",
      "Epoch 13/20\n",
      "625/625 [==============================] - 3s 5ms/step - loss: 0.0221 - accuracy: 0.9947 - val_loss: 0.0128 - val_accuracy: 0.9962\n",
      "Epoch 14/20\n",
      "625/625 [==============================] - 3s 4ms/step - loss: 0.0177 - accuracy: 0.9959 - val_loss: 0.0091 - val_accuracy: 0.9979\n",
      "Epoch 15/20\n",
      "625/625 [==============================] - 3s 5ms/step - loss: 0.0141 - accuracy: 0.9966 - val_loss: 0.0067 - val_accuracy: 0.9982\n",
      "Epoch 16/20\n",
      "625/625 [==============================] - 3s 5ms/step - loss: 0.0104 - accuracy: 0.9977 - val_loss: 0.0058 - val_accuracy: 0.9984\n",
      "Epoch 17/20\n",
      "625/625 [==============================] - 3s 4ms/step - loss: 0.0082 - accuracy: 0.9981 - val_loss: 0.0043 - val_accuracy: 0.9988\n",
      "Epoch 18/20\n",
      "625/625 [==============================] - 3s 4ms/step - loss: 0.0056 - accuracy: 0.9986 - val_loss: 0.0033 - val_accuracy: 0.9992\n",
      "Epoch 19/20\n",
      "625/625 [==============================] - 3s 5ms/step - loss: 0.0041 - accuracy: 0.9988 - val_loss: 0.0027 - val_accuracy: 0.9992\n",
      "Epoch 20/20\n",
      "625/625 [==============================] - 3s 5ms/step - loss: 0.0034 - accuracy: 0.9991 - val_loss: 0.0023 - val_accuracy: 0.9994\n"
     ]
    }
   ],
   "source": [
    "history = model.fit(x_train, y_train, epochs=20, validation_data=(x_val, y_val))"
   ]
  },
  {
   "cell_type": "code",
   "execution_count": 180,
   "metadata": {},
   "outputs": [
    {
     "name": "stdout",
     "output_type": "stream",
     "text": [
      "782/782 [==============================] - 1s 1ms/step - loss: 2.3245 - accuracy: 0.8533\n"
     ]
    },
    {
     "data": {
      "text/plain": [
       "[2.3245089054107666, 0.8533200025558472]"
      ]
     },
     "execution_count": 180,
     "metadata": {},
     "output_type": "execute_result"
    }
   ],
   "source": [
    "model.evaluate(x_test, y_test)"
   ]
  },
  {
   "cell_type": "code",
   "execution_count": 181,
   "metadata": {},
   "outputs": [
    {
     "data": {
      "image/png": "[encoded data removed]",
      "text/plain": [
       "<Figure size 432x288 with 1 Axes>"
      ]
     },
     "metadata": {
      "needs_background": "light"
     },
     "output_type": "display_data"
    }
   ],
   "source": [
    "history_dict = history.history\n",
    "loss_values = history_dict['loss']\n",
    "val_loss_values = history_dict['val_loss']\n",
    "acc_values = history_dict['accuracy']\n",
    "epochs = range(1, len(acc_values) + 1)\n",
    "plt.plot(epochs, loss_values, 'bo', label='Training loss')\n",
    "plt.plot(epochs, val_loss_values, 'b', label='Validation loss')\n",
    "plt.title('Training and validation loss')\n",
    "plt.xlabel('Epochs')\n",
    "plt.ylabel('Loss')\n",
    "plt.legend()\n",
    "plt.show()"
   ]
  },
  {
   "cell_type": "code",
   "execution_count": 182,
   "metadata": {},
   "outputs": [],
   "source": [
    "from tensorflow.keras import optimizers\n",
    "model = models.Sequential()\n",
    "model.add(layers.Dense(64, activation='relu', input_shape=(10000,)))\n",
    "model.add(layers.Dense(1, activation='sigmoid'))\n",
    "model.compile(optimizer=optimizers.RMSprop(learning_rate=0.001),\n",
    "              loss='mse',\n",
    "              metrics=['accuracy'])"
   ]
  },
  {
   "cell_type": "code",
   "execution_count": 183,
   "metadata": {},
   "outputs": [
    {
     "name": "stdout",
     "output_type": "stream",
     "text": [
      "Epoch 1/20\n",
      "625/625 [==============================] - 3s 5ms/step - loss: 0.0984 - accuracy: 0.8672 - val_loss: 0.0490 - val_accuracy: 0.9380\n",
      "Epoch 2/20\n",
      "625/625 [==============================] - 2s 3ms/step - loss: 0.0581 - accuracy: 0.9230 - val_loss: 0.0421 - val_accuracy: 0.9476\n",
      "Epoch 3/20\n",
      "625/625 [==============================] - 2s 3ms/step - loss: 0.0447 - accuracy: 0.9427 - val_loss: 0.0306 - val_accuracy: 0.9627\n",
      "Epoch 4/20\n",
      "625/625 [==============================] - 2s 4ms/step - loss: 0.0353 - accuracy: 0.9564 - val_loss: 0.0221 - val_accuracy: 0.9743\n",
      "Epoch 5/20\n",
      "625/625 [==============================] - 2s 3ms/step - loss: 0.0276 - accuracy: 0.9664 - val_loss: 0.0191 - val_accuracy: 0.9780\n",
      "Epoch 6/20\n",
      "625/625 [==============================] - 2s 3ms/step - loss: 0.0223 - accuracy: 0.9736 - val_loss: 0.0153 - val_accuracy: 0.9827\n",
      "Epoch 7/20\n",
      "625/625 [==============================] - 2s 3ms/step - loss: 0.0170 - accuracy: 0.9809 - val_loss: 0.0116 - val_accuracy: 0.9877\n",
      "Epoch 8/20\n",
      "625/625 [==============================] - 2s 3ms/step - loss: 0.0131 - accuracy: 0.9860 - val_loss: 0.0095 - val_accuracy: 0.9896\n",
      "Epoch 9/20\n",
      "625/625 [==============================] - 2s 3ms/step - loss: 0.0104 - accuracy: 0.9890 - val_loss: 0.0078 - val_accuracy: 0.9914\n",
      "Epoch 10/20\n",
      "625/625 [==============================] - 3s 5ms/step - loss: 0.0086 - accuracy: 0.9913 - val_loss: 0.0066 - val_accuracy: 0.9930\n",
      "Epoch 11/20\n",
      "625/625 [==============================] - 2s 3ms/step - loss: 0.0073 - accuracy: 0.9926 - val_loss: 0.0057 - val_accuracy: 0.9941\n",
      "Epoch 12/20\n",
      "625/625 [==============================] - 2s 3ms/step - loss: 0.0063 - accuracy: 0.9936 - val_loss: 0.0048 - val_accuracy: 0.9952\n",
      "Epoch 13/20\n",
      "625/625 [==============================] - 2s 3ms/step - loss: 0.0056 - accuracy: 0.9943 - val_loss: 0.0043 - val_accuracy: 0.9960\n",
      "Epoch 14/20\n",
      "625/625 [==============================] - 2s 3ms/step - loss: 0.0049 - accuracy: 0.9951 - val_loss: 0.0041 - val_accuracy: 0.9960\n",
      "Epoch 15/20\n",
      "625/625 [==============================] - 2s 3ms/step - loss: 0.0046 - accuracy: 0.9955 - val_loss: 0.0039 - val_accuracy: 0.9960\n",
      "Epoch 16/20\n",
      "625/625 [==============================] - 4s 7ms/step - loss: 0.0043 - accuracy: 0.9956 - val_loss: 0.0038 - val_accuracy: 0.9962\n",
      "Epoch 17/20\n",
      "625/625 [==============================] - 3s 4ms/step - loss: 0.0041 - accuracy: 0.9959 - val_loss: 0.0037 - val_accuracy: 0.9964\n",
      "Epoch 18/20\n",
      "625/625 [==============================] - 2s 3ms/step - loss: 0.0039 - accuracy: 0.9960 - val_loss: 0.0036 - val_accuracy: 0.9965\n",
      "Epoch 19/20\n",
      "625/625 [==============================] - 2s 3ms/step - loss: 0.0038 - accuracy: 0.9962 - val_loss: 0.0036 - val_accuracy: 0.9965\n",
      "Epoch 20/20\n",
      "625/625 [==============================] - 2s 3ms/step - loss: 0.0037 - accuracy: 0.9963 - val_loss: 0.0035 - val_accuracy: 0.9965\n"
     ]
    }
   ],
   "source": [
    "history = model.fit(x_train, y_train, epochs=20, validation_data=(x_val, y_val))"
   ]
  },
  {
   "cell_type": "code",
   "execution_count": 184,
   "metadata": {},
   "outputs": [
    {
     "name": "stdout",
     "output_type": "stream",
     "text": [
      "782/782 [==============================] - 1s 1ms/step - loss: 0.1276 - accuracy: 0.8608\n"
     ]
    },
    {
     "data": {
      "text/plain": [
       "[0.127583846449852, 0.860759973526001]"
      ]
     },
     "execution_count": 184,
     "metadata": {},
     "output_type": "execute_result"
    }
   ],
   "source": [
    "model.evaluate(x_test, y_test)"
   ]
  },
  {
   "cell_type": "code",
   "execution_count": 185,
   "metadata": {},
   "outputs": [
    {
     "data": {
      "image/png": "[encoded data removed]",
      "text/plain": [
       "<Figure size 432x288 with 1 Axes>"
      ]
     },
     "metadata": {
      "needs_background": "light"
     },
     "output_type": "display_data"
    }
   ],
   "source": [
    "history_dict = history.history\n",
    "loss_values = history_dict['loss']\n",
    "val_loss_values = history_dict['val_loss']\n",
    "acc_values = history_dict['accuracy']\n",
    "epochs = range(1, len(acc_values) + 1)\n",
    "plt.plot(epochs, loss_values, 'bo', label='Training loss')\n",
    "plt.plot(epochs, val_loss_values, 'b', label='Validation loss')\n",
    "plt.title('Training and validation loss')\n",
    "plt.xlabel('Epochs')\n",
    "plt.ylabel('Loss')\n",
    "plt.legend()\n",
    "plt.show()"
   ]
  },
  {
   "cell_type": "code",
   "execution_count": 186,
   "metadata": {},
   "outputs": [],
   "source": [
    "model = models.Sequential()\n",
    "model.add(layers.Dense(64, activation='tanh', input_shape=(10000,)))\n",
    "model.add(layers.Dense(1, activation='sigmoid'))\n",
    "model.compile(optimizer=optimizers.RMSprop(learning_rate=0.001),\n",
    "              loss='binary_crossentropy',\n",
    "              metrics=['accuracy'])"
   ]
  },
  {
   "cell_type": "code",
   "execution_count": 187,
   "metadata": {},
   "outputs": [
    {
     "name": "stdout",
     "output_type": "stream",
     "text": [
      "Epoch 1/20\n",
      "625/625 [==============================] - 3s 4ms/step - loss: 0.3109 - accuracy: 0.8713 - val_loss: 0.1704 - val_accuracy: 0.9381\n",
      "Epoch 2/20\n",
      "625/625 [==============================] - 2s 3ms/step - loss: 0.1985 - accuracy: 0.9241 - val_loss: 0.1445 - val_accuracy: 0.9494\n",
      "Epoch 3/20\n",
      "625/625 [==============================] - 2s 3ms/step - loss: 0.1655 - accuracy: 0.9376 - val_loss: 0.1216 - val_accuracy: 0.9590\n",
      "Epoch 4/20\n",
      "625/625 [==============================] - 2s 3ms/step - loss: 0.1449 - accuracy: 0.9459 - val_loss: 0.1095 - val_accuracy: 0.9640\n",
      "Epoch 5/20\n",
      "625/625 [==============================] - 2s 3ms/step - loss: 0.1315 - accuracy: 0.9521 - val_loss: 0.1012 - val_accuracy: 0.9668\n",
      "Epoch 6/20\n",
      "625/625 [==============================] - 2s 3ms/step - loss: 0.1207 - accuracy: 0.9564 - val_loss: 0.0969 - val_accuracy: 0.9682\n",
      "Epoch 7/20\n",
      "625/625 [==============================] - 2s 3ms/step - loss: 0.1126 - accuracy: 0.9601 - val_loss: 0.0939 - val_accuracy: 0.9688\n",
      "Epoch 8/20\n",
      "625/625 [==============================] - 2s 3ms/step - loss: 0.1062 - accuracy: 0.9632 - val_loss: 0.0917 - val_accuracy: 0.9693\n",
      "Epoch 9/20\n",
      "625/625 [==============================] - 2s 3ms/step - loss: 0.1006 - accuracy: 0.9652 - val_loss: 0.0830 - val_accuracy: 0.9724\n",
      "Epoch 10/20\n",
      "625/625 [==============================] - 2s 3ms/step - loss: 0.0952 - accuracy: 0.9668 - val_loss: 0.0799 - val_accuracy: 0.9737\n",
      "Epoch 11/20\n",
      "625/625 [==============================] - 2s 4ms/step - loss: 0.0911 - accuracy: 0.9687 - val_loss: 0.0761 - val_accuracy: 0.9763\n",
      "Epoch 12/20\n",
      "625/625 [==============================] - 2s 4ms/step - loss: 0.0868 - accuracy: 0.9712 - val_loss: 0.0737 - val_accuracy: 0.9756\n",
      "Epoch 13/20\n",
      "625/625 [==============================] - 2s 3ms/step - loss: 0.0833 - accuracy: 0.9719 - val_loss: 0.0702 - val_accuracy: 0.9768\n",
      "Epoch 14/20\n",
      "625/625 [==============================] - 2s 3ms/step - loss: 0.0799 - accuracy: 0.9740 - val_loss: 0.0670 - val_accuracy: 0.9786\n",
      "Epoch 15/20\n",
      "625/625 [==============================] - 2s 4ms/step - loss: 0.0761 - accuracy: 0.9747 - val_loss: 0.0644 - val_accuracy: 0.9799\n",
      "Epoch 16/20\n",
      "625/625 [==============================] - 2s 3ms/step - loss: 0.0724 - accuracy: 0.9760 - val_loss: 0.0626 - val_accuracy: 0.9784\n",
      "Epoch 17/20\n",
      "625/625 [==============================] - 2s 3ms/step - loss: 0.0690 - accuracy: 0.9769 - val_loss: 0.0586 - val_accuracy: 0.9803\n",
      "Epoch 18/20\n",
      "625/625 [==============================] - 2s 4ms/step - loss: 0.0653 - accuracy: 0.9786 - val_loss: 0.0559 - val_accuracy: 0.9811\n",
      "Epoch 19/20\n",
      "625/625 [==============================] - 2s 3ms/step - loss: 0.0628 - accuracy: 0.9791 - val_loss: 0.0529 - val_accuracy: 0.9829\n",
      "Epoch 20/20\n",
      "625/625 [==============================] - 2s 3ms/step - loss: 0.0596 - accuracy: 0.9803 - val_loss: 0.0505 - val_accuracy: 0.9832\n"
     ]
    }
   ],
   "source": [
    "history = model.fit(x_train, y_train, epochs=20, validation_data=(x_val, y_val))"
   ]
  },
  {
   "cell_type": "code",
   "execution_count": 188,
   "metadata": {},
   "outputs": [
    {
     "name": "stdout",
     "output_type": "stream",
     "text": [
      "782/782 [==============================] - 1s 1ms/step - loss: 0.5178 - accuracy: 0.8554\n"
     ]
    },
    {
     "data": {
      "text/plain": [
       "[0.5177631378173828, 0.8553599715232849]"
      ]
     },
     "execution_count": 188,
     "metadata": {},
     "output_type": "execute_result"
    }
   ],
   "source": [
    "model.evaluate(x_test, y_test)"
   ]
  },
  {
   "cell_type": "code",
   "execution_count": 189,
   "metadata": {},
   "outputs": [
    {
     "data": {
      "text/plain": [
       "dict_keys(['loss', 'accuracy', 'val_loss', 'val_accuracy'])"
      ]
     },
     "execution_count": 189,
     "metadata": {},
     "output_type": "execute_result"
    }
   ],
   "source": [
    "history_dict = history.history\n",
    "history_dict.keys()"
   ]
  },
  {
   "cell_type": "code",
   "execution_count": 190,
   "metadata": {},
   "outputs": [
    {
     "data": {
      "image/png": "[encoded data removed]",
      "text/plain": [
       "<Figure size 432x288 with 1 Axes>"
      ]
     },
     "metadata": {
      "needs_background": "light"
     },
     "output_type": "display_data"
    }
   ],
   "source": [
    "history_dict = history.history\n",
    "loss_values = history_dict['loss']\n",
    "val_loss_values = history_dict['val_loss']\n",
    "acc_values = history_dict['accuracy']\n",
    "epochs = range(1, len(acc_values) + 1)\n",
    "plt.plot(epochs, loss_values, 'bo', label='Training loss')\n",
    "plt.plot(epochs, val_loss_values, 'b', label='Validation loss')\n",
    "plt.title('Training and validation loss')\n",
    "plt.xlabel('Epochs')\n",
    "plt.ylabel('Loss')\n",
    "plt.legend()\n",
    "plt.show()"
   ]
  },
  {
   "cell_type": "markdown",
   "metadata": {},
   "source": [
    "## Part 2"
   ]
  },
  {
   "cell_type": "code",
   "execution_count": 202,
   "metadata": {},
   "outputs": [],
   "source": [
    "from keras.datasets import fashion_mnist\n",
    "(X_train, y_train), (X_test, y_test) = fashion_mnist.load_data()"
   ]
  },
  {
   "cell_type": "code",
   "execution_count": 203,
   "metadata": {},
   "outputs": [],
   "source": [
    "import numpy as np\n",
    "import matplotlib.pyplot as plt\n",
    "\n",
    "from keras.models import Sequential\n",
    "from keras.layers import Dense\n",
    "from keras.utils import np_utils\n",
    "\n",
    "seed = 7\n",
    "np.random.seed(seed)\n",
    "\n",
    "num_pixels = X_train.shape[1] * X_train.shape[2]\n",
    "X_train = X_train.reshape(X_train.shape[0], num_pixels).astype('float32')\n",
    "X_test = X_test.reshape(X_test.shape[0], num_pixels).astype('float32')\n",
    "X_train = X_train / 255\n",
    "X_test = X_test / 255\n",
    "y_train = np_utils.to_categorical(y_train)\n",
    "y_test = np_utils.to_categorical(y_test)\n",
    "num_classes = y_test.shape[1]"
   ]
  },
  {
   "cell_type": "markdown",
   "metadata": {},
   "source": [
    "<h4>Without regularization and dropout"
   ]
  },
  {
   "cell_type": "code",
   "execution_count": 217,
   "metadata": {},
   "outputs": [],
   "source": [
    "network = models.Sequential()\n",
    "network.add(layers.Dense(512, activation='relu', input_shape=(28 * 28,)))\n",
    "network.add(layers.Dense(10, activation='softmax'))\n",
    "network.compile(optimizer=optimizers.RMSprop(learning_rate=0.001),\n",
    "              loss='categorical_crossentropy',\n",
    "              metrics=['accuracy'])"
   ]
  },
  {
   "cell_type": "code",
   "execution_count": 218,
   "metadata": {},
   "outputs": [
    {
     "name": "stdout",
     "output_type": "stream",
     "text": [
      "Epoch 1/20\n",
      "1875/1875 [==============================] - 5s 3ms/step - loss: 0.4960 - accuracy: 0.8232 - val_loss: 0.4328 - val_accuracy: 0.8462\n",
      "Epoch 2/20\n",
      "1875/1875 [==============================] - 5s 3ms/step - loss: 0.3808 - accuracy: 0.8644 - val_loss: 0.4126 - val_accuracy: 0.8597\n",
      "Epoch 3/20\n",
      "1875/1875 [==============================] - 5s 3ms/step - loss: 0.3542 - accuracy: 0.8774 - val_loss: 0.4363 - val_accuracy: 0.8555\n",
      "Epoch 4/20\n",
      "1875/1875 [==============================] - 5s 3ms/step - loss: 0.3399 - accuracy: 0.8836 - val_loss: 0.4242 - val_accuracy: 0.8654\n",
      "Epoch 5/20\n",
      "1875/1875 [==============================] - 5s 3ms/step - loss: 0.3300 - accuracy: 0.8889 - val_loss: 0.4164 - val_accuracy: 0.8708\n",
      "Epoch 6/20\n",
      "1875/1875 [==============================] - 5s 3ms/step - loss: 0.3210 - accuracy: 0.8928 - val_loss: 0.4351 - val_accuracy: 0.8717\n",
      "Epoch 7/20\n",
      "1875/1875 [==============================] - 5s 2ms/step - loss: 0.3137 - accuracy: 0.8964 - val_loss: 0.4819 - val_accuracy: 0.8728\n",
      "Epoch 8/20\n",
      "1875/1875 [==============================] - 5s 2ms/step - loss: 0.3088 - accuracy: 0.8991 - val_loss: 0.4562 - val_accuracy: 0.8772\n",
      "Epoch 9/20\n",
      "1875/1875 [==============================] - 5s 3ms/step - loss: 0.3058 - accuracy: 0.9020 - val_loss: 0.4810 - val_accuracy: 0.8802\n",
      "Epoch 10/20\n",
      "1875/1875 [==============================] - 5s 3ms/step - loss: 0.2991 - accuracy: 0.9039 - val_loss: 0.4616 - val_accuracy: 0.8716\n",
      "Epoch 11/20\n",
      "1875/1875 [==============================] - 5s 2ms/step - loss: 0.2971 - accuracy: 0.9088 - val_loss: 0.4479 - val_accuracy: 0.8784\n",
      "Epoch 12/20\n",
      "1875/1875 [==============================] - 5s 3ms/step - loss: 0.2925 - accuracy: 0.9096 - val_loss: 0.5313 - val_accuracy: 0.8740\n",
      "Epoch 13/20\n",
      "1875/1875 [==============================] - 4s 2ms/step - loss: 0.2913 - accuracy: 0.9110 - val_loss: 0.4609 - val_accuracy: 0.8823\n",
      "Epoch 14/20\n",
      "1875/1875 [==============================] - 5s 2ms/step - loss: 0.2792 - accuracy: 0.9119 - val_loss: 0.5183 - val_accuracy: 0.8744\n",
      "Epoch 15/20\n",
      "1875/1875 [==============================] - 5s 2ms/step - loss: 0.2782 - accuracy: 0.9153 - val_loss: 0.5364 - val_accuracy: 0.8806\n",
      "Epoch 16/20\n",
      "1875/1875 [==============================] - 5s 3ms/step - loss: 0.2775 - accuracy: 0.9161 - val_loss: 0.5068 - val_accuracy: 0.8837\n",
      "Epoch 17/20\n",
      "1875/1875 [==============================] - 5s 2ms/step - loss: 0.2701 - accuracy: 0.9196 - val_loss: 0.5757 - val_accuracy: 0.8784\n",
      "Epoch 18/20\n",
      "1875/1875 [==============================] - 5s 2ms/step - loss: 0.2686 - accuracy: 0.9196 - val_loss: 0.6035 - val_accuracy: 0.8697\n",
      "Epoch 19/20\n",
      "1875/1875 [==============================] - 5s 3ms/step - loss: 0.2640 - accuracy: 0.9207 - val_loss: 0.5371 - val_accuracy: 0.8840\n",
      "Epoch 20/20\n",
      "1875/1875 [==============================] - 5s 3ms/step - loss: 0.2588 - accuracy: 0.9226 - val_loss: 0.5709 - val_accuracy: 0.8831\n"
     ]
    }
   ],
   "source": [
    "history = network.fit(X_train, y_train, epochs=20, validation_data=(X_test, y_test))"
   ]
  },
  {
   "cell_type": "code",
   "execution_count": 220,
   "metadata": {},
   "outputs": [
    {
     "name": "stdout",
     "output_type": "stream",
     "text": [
      "313/313 [==============================] - 0s 1ms/step - loss: 0.5709 - accuracy: 0.8831\n"
     ]
    },
    {
     "data": {
      "text/plain": [
       "[0.5709343552589417, 0.8830999732017517]"
      ]
     },
     "execution_count": 220,
     "metadata": {},
     "output_type": "execute_result"
    }
   ],
   "source": [
    "network.evaluate(X_test, y_test)"
   ]
  },
  {
   "cell_type": "code",
   "execution_count": 221,
   "metadata": {},
   "outputs": [
    {
     "data": {
      "image/png": "[encoded data removed]",
      "text/plain": [
       "<Figure size 432x288 with 1 Axes>"
      ]
     },
     "metadata": {
      "needs_background": "light"
     },
     "output_type": "display_data"
    }
   ],
   "source": [
    "history_dict = history.history\n",
    "loss_values = history_dict['loss']\n",
    "val_loss_values = history_dict['val_loss']\n",
    "acc_values = history_dict['accuracy']\n",
    "epochs = range(1, len(acc_values) + 1)\n",
    "plt.plot(epochs, loss_values, 'bo', label='Training loss')\n",
    "plt.plot(epochs, val_loss_values, 'b', label='Validation loss')\n",
    "plt.title('Training and validation loss')\n",
    "plt.xlabel('Epochs')\n",
    "plt.ylabel('Loss')\n",
    "plt.legend()\n",
    "plt.show()"
   ]
  },
  {
   "cell_type": "markdown",
   "metadata": {},
   "source": [
    "<h4>Regularization"
   ]
  },
  {
   "cell_type": "code",
   "execution_count": 206,
   "metadata": {},
   "outputs": [],
   "source": [
    "from keras import models\n",
    "from keras import layers\n",
    "from keras import regularizers\n",
    "network = models.Sequential()\n",
    "network.add(layers.Dense(512, kernel_regularizer=regularizers.l2(0.001), activation='relu', input_shape=(28 * 28,)))\n",
    "network.add(layers.Dense(10, activation='softmax'))\n",
    "network.compile(optimizer=optimizers.RMSprop(learning_rate=0.001),\n",
    "              loss='categorical_crossentropy',\n",
    "              metrics=['accuracy'])"
   ]
  },
  {
   "cell_type": "code",
   "execution_count": 207,
   "metadata": {},
   "outputs": [
    {
     "name": "stdout",
     "output_type": "stream",
     "text": [
      "Epoch 1/20\n",
      "1875/1875 [==============================] - 5s 3ms/step - loss: 0.7349 - accuracy: 0.7979 - val_loss: 0.5941 - val_accuracy: 0.8139\n",
      "Epoch 2/20\n",
      "1875/1875 [==============================] - 5s 3ms/step - loss: 0.5485 - accuracy: 0.8329 - val_loss: 0.5247 - val_accuracy: 0.8331\n",
      "Epoch 3/20\n",
      "1875/1875 [==============================] - 5s 3ms/step - loss: 0.5155 - accuracy: 0.8397 - val_loss: 0.4986 - val_accuracy: 0.8461\n",
      "Epoch 4/20\n",
      "1875/1875 [==============================] - 5s 3ms/step - loss: 0.4955 - accuracy: 0.8475 - val_loss: 0.7601 - val_accuracy: 0.7811\n",
      "Epoch 5/20\n",
      "1875/1875 [==============================] - 5s 3ms/step - loss: 0.4826 - accuracy: 0.8518 - val_loss: 0.5067 - val_accuracy: 0.8364\n",
      "Epoch 6/20\n",
      "1875/1875 [==============================] - 5s 3ms/step - loss: 0.4699 - accuracy: 0.8550 - val_loss: 0.5186 - val_accuracy: 0.8403\n",
      "Epoch 7/20\n",
      "1875/1875 [==============================] - 5s 3ms/step - loss: 0.4617 - accuracy: 0.8579 - val_loss: 0.6661 - val_accuracy: 0.8090\n",
      "Epoch 8/20\n",
      "1875/1875 [==============================] - 5s 3ms/step - loss: 0.4530 - accuracy: 0.8610 - val_loss: 0.4799 - val_accuracy: 0.8509\n",
      "Epoch 9/20\n",
      "1875/1875 [==============================] - 5s 3ms/step - loss: 0.4457 - accuracy: 0.8620 - val_loss: 0.4840 - val_accuracy: 0.8531\n",
      "Epoch 10/20\n",
      "1875/1875 [==============================] - 6s 3ms/step - loss: 0.4375 - accuracy: 0.8648 - val_loss: 0.5763 - val_accuracy: 0.8236\n",
      "Epoch 11/20\n",
      "1875/1875 [==============================] - 5s 3ms/step - loss: 0.4339 - accuracy: 0.8675 - val_loss: 0.4817 - val_accuracy: 0.8540\n",
      "Epoch 12/20\n",
      "1875/1875 [==============================] - 5s 3ms/step - loss: 0.4306 - accuracy: 0.8680 - val_loss: 0.4775 - val_accuracy: 0.8475\n",
      "Epoch 13/20\n",
      "1875/1875 [==============================] - 5s 3ms/step - loss: 0.4291 - accuracy: 0.8688 - val_loss: 0.4741 - val_accuracy: 0.8541\n",
      "Epoch 14/20\n",
      "1875/1875 [==============================] - 5s 3ms/step - loss: 0.4245 - accuracy: 0.8680 - val_loss: 0.5365 - val_accuracy: 0.8464\n",
      "Epoch 15/20\n",
      "1875/1875 [==============================] - 6s 3ms/step - loss: 0.4225 - accuracy: 0.8709 - val_loss: 0.4578 - val_accuracy: 0.8620\n",
      "Epoch 16/20\n",
      "1875/1875 [==============================] - 5s 3ms/step - loss: 0.4205 - accuracy: 0.8702 - val_loss: 0.4758 - val_accuracy: 0.8572\n",
      "Epoch 17/20\n",
      "1875/1875 [==============================] - 5s 3ms/step - loss: 0.4185 - accuracy: 0.8724 - val_loss: 0.4856 - val_accuracy: 0.8476\n",
      "Epoch 18/20\n",
      "1875/1875 [==============================] - 5s 3ms/step - loss: 0.4183 - accuracy: 0.8704 - val_loss: 0.4917 - val_accuracy: 0.8451\n",
      "Epoch 19/20\n",
      "1875/1875 [==============================] - 6s 3ms/step - loss: 0.4159 - accuracy: 0.8729 - val_loss: 0.5044 - val_accuracy: 0.8447\n",
      "Epoch 20/20\n",
      "1875/1875 [==============================] - 5s 3ms/step - loss: 0.4176 - accuracy: 0.8716 - val_loss: 0.5217 - val_accuracy: 0.8481\n"
     ]
    }
   ],
   "source": [
    "history = network.fit(X_train, y_train, epochs=20, validation_data=(X_test, y_test))"
   ]
  },
  {
   "cell_type": "code",
   "execution_count": 209,
   "metadata": {},
   "outputs": [
    {
     "name": "stdout",
     "output_type": "stream",
     "text": [
      "313/313 [==============================] - 0s 1ms/step - loss: 0.5217 - accuracy: 0.8481\n"
     ]
    },
    {
     "data": {
      "text/plain": [
       "[0.5217410922050476, 0.8481000065803528]"
      ]
     },
     "execution_count": 209,
     "metadata": {},
     "output_type": "execute_result"
    }
   ],
   "source": [
    "network.evaluate(X_test, y_test)"
   ]
  },
  {
   "cell_type": "code",
   "execution_count": 210,
   "metadata": {},
   "outputs": [
    {
     "data": {
      "image/png": "[encoded data removed]",
      "text/plain": [
       "<Figure size 432x288 with 1 Axes>"
      ]
     },
     "metadata": {
      "needs_background": "light"
     },
     "output_type": "display_data"
    }
   ],
   "source": [
    "history_dict = history.history\n",
    "loss_values = history_dict['loss']\n",
    "val_loss_values = history_dict['val_loss']\n",
    "acc_values = history_dict['accuracy']\n",
    "epochs = range(1, len(acc_values) + 1)\n",
    "plt.plot(epochs, loss_values, 'bo', label='Training loss')\n",
    "plt.plot(epochs, val_loss_values, 'b', label='Validation loss')\n",
    "plt.title('Training and validation loss')\n",
    "plt.xlabel('Epochs')\n",
    "plt.ylabel('Loss')\n",
    "plt.legend()\n",
    "plt.show()"
   ]
  },
  {
   "cell_type": "markdown",
   "metadata": {},
   "source": [
    "<h4>Dropout"
   ]
  },
  {
   "cell_type": "code",
   "execution_count": 213,
   "metadata": {},
   "outputs": [],
   "source": [
    "from keras import models\n",
    "from keras import layers\n",
    "from keras import regularizers\n",
    "network = models.Sequential()\n",
    "network.add(layers.Dense(512, activation='relu', input_shape=(28 * 28,)))\n",
    "network.add(layers.Dropout(0.5))\n",
    "network.add(layers.Dense(10, activation='softmax'))\n",
    "network.compile(optimizer=optimizers.RMSprop(learning_rate=0.001),\n",
    "              loss='categorical_crossentropy',\n",
    "              metrics=['accuracy'])"
   ]
  },
  {
   "cell_type": "code",
   "execution_count": 214,
   "metadata": {},
   "outputs": [
    {
     "name": "stdout",
     "output_type": "stream",
     "text": [
      "Epoch 1/20\n",
      "1875/1875 [==============================] - 5s 3ms/step - loss: 0.5790 - accuracy: 0.7983 - val_loss: 0.4402 - val_accuracy: 0.8475\n",
      "Epoch 2/20\n",
      "1875/1875 [==============================] - 5s 3ms/step - loss: 0.4707 - accuracy: 0.8420 - val_loss: 0.4561 - val_accuracy: 0.8539\n",
      "Epoch 3/20\n",
      "1875/1875 [==============================] - 5s 3ms/step - loss: 0.4587 - accuracy: 0.8492 - val_loss: 0.4720 - val_accuracy: 0.8559\n",
      "Epoch 4/20\n",
      "1875/1875 [==============================] - 6s 3ms/step - loss: 0.4551 - accuracy: 0.8565 - val_loss: 0.4417 - val_accuracy: 0.8617\n",
      "Epoch 5/20\n",
      "1875/1875 [==============================] - 5s 3ms/step - loss: 0.4579 - accuracy: 0.8588 - val_loss: 0.4544 - val_accuracy: 0.8691\n",
      "Epoch 6/20\n",
      "1875/1875 [==============================] - 5s 3ms/step - loss: 0.4546 - accuracy: 0.8606 - val_loss: 0.4761 - val_accuracy: 0.8638\n",
      "Epoch 7/20\n",
      "1875/1875 [==============================] - 5s 3ms/step - loss: 0.4604 - accuracy: 0.8612 - val_loss: 0.4265 - val_accuracy: 0.8695\n",
      "Epoch 8/20\n",
      "1875/1875 [==============================] - 5s 2ms/step - loss: 0.4591 - accuracy: 0.8667 - val_loss: 0.4448 - val_accuracy: 0.8691\n",
      "Epoch 9/20\n",
      "1875/1875 [==============================] - 5s 3ms/step - loss: 0.4590 - accuracy: 0.8651 - val_loss: 0.5261 - val_accuracy: 0.8595\n",
      "Epoch 10/20\n",
      "1875/1875 [==============================] - 5s 3ms/step - loss: 0.4674 - accuracy: 0.8651 - val_loss: 0.4780 - val_accuracy: 0.8706\n",
      "Epoch 11/20\n",
      "1875/1875 [==============================] - 5s 3ms/step - loss: 0.4701 - accuracy: 0.8677 - val_loss: 0.4829 - val_accuracy: 0.8699\n",
      "Epoch 12/20\n",
      "1875/1875 [==============================] - 6s 3ms/step - loss: 0.4781 - accuracy: 0.8679 - val_loss: 0.4890 - val_accuracy: 0.8766\n",
      "Epoch 13/20\n",
      "1875/1875 [==============================] - 5s 3ms/step - loss: 0.4735 - accuracy: 0.8693 - val_loss: 0.5540 - val_accuracy: 0.8695\n",
      "Epoch 14/20\n",
      "1875/1875 [==============================] - 5s 3ms/step - loss: 0.4724 - accuracy: 0.8720 - val_loss: 0.5622 - val_accuracy: 0.8706\n",
      "Epoch 15/20\n",
      "1875/1875 [==============================] - 5s 3ms/step - loss: 0.4768 - accuracy: 0.8714 - val_loss: 0.5537 - val_accuracy: 0.8664\n",
      "Epoch 16/20\n",
      "1875/1875 [==============================] - 5s 3ms/step - loss: 0.4743 - accuracy: 0.8726 - val_loss: 0.5344 - val_accuracy: 0.8736\n",
      "Epoch 17/20\n",
      "1875/1875 [==============================] - 5s 2ms/step - loss: 0.4833 - accuracy: 0.8713 - val_loss: 0.5309 - val_accuracy: 0.8748\n",
      "Epoch 18/20\n",
      "1875/1875 [==============================] - 5s 3ms/step - loss: 0.4719 - accuracy: 0.8748 - val_loss: 0.5260 - val_accuracy: 0.8730\n",
      "Epoch 19/20\n",
      "1875/1875 [==============================] - 6s 3ms/step - loss: 0.4850 - accuracy: 0.8728 - val_loss: 0.5807 - val_accuracy: 0.8764\n",
      "Epoch 20/20\n",
      "1875/1875 [==============================] - 5s 3ms/step - loss: 0.4773 - accuracy: 0.8764 - val_loss: 0.5642 - val_accuracy: 0.8778\n"
     ]
    }
   ],
   "source": [
    "history = network.fit(X_train, y_train, epochs=20, validation_data=(X_test, y_test))"
   ]
  },
  {
   "cell_type": "code",
   "execution_count": 215,
   "metadata": {},
   "outputs": [
    {
     "data": {
      "image/png": "[encoded data removed]",
      "text/plain": [
       "<Figure size 432x288 with 1 Axes>"
      ]
     },
     "metadata": {
      "needs_background": "light"
     },
     "output_type": "display_data"
    }
   ],
   "source": [
    "history_dict = history.history\n",
    "loss_values = history_dict['loss']\n",
    "val_loss_values = history_dict['val_loss']\n",
    "acc_values = history_dict['accuracy']\n",
    "epochs = range(1, len(acc_values) + 1)\n",
    "plt.plot(epochs, loss_values, 'bo', label='Training loss')\n",
    "plt.plot(epochs, val_loss_values, 'b', label='Validation loss')\n",
    "plt.title('Training and validation loss')\n",
    "plt.xlabel('Epochs')\n",
    "plt.ylabel('Loss')\n",
    "plt.legend()\n",
    "plt.show()"
   ]
  },
  {
   "cell_type": "code",
   "execution_count": 216,
   "metadata": {},
   "outputs": [
    {
     "name": "stdout",
     "output_type": "stream",
     "text": [
      "313/313 [==============================] - 0s 1ms/step - loss: 0.5642 - accuracy: 0.8778\n"
     ]
    },
    {
     "data": {
      "text/plain": [
       "[0.5641961693763733, 0.8777999877929688]"
      ]
     },
     "execution_count": 216,
     "metadata": {},
     "output_type": "execute_result"
    }
   ],
   "source": [
    "network.evaluate(X_test, y_test)"
   ]
  },
  {
   "cell_type": "markdown",
   "metadata": {},
   "source": [
    "<h5>We see here that the plot without regularization and dropout clearly demonstrates overfitting. But after we regularize with l2 norm, the overfitting problem has been overcome."
   ]
  }
 ],
 "metadata": {
  "kernelspec": {
   "display_name": "Python 3",
   "language": "python",
   "name": "python3"
  },
  "language_info": {
   "codemirror_mode": {
    "name": "ipython",
    "version": 3
   },
   "file_extension": ".py",
   "mimetype": "text/x-python",
   "name": "python",
   "nbconvert_exporter": "python",
   "pygments_lexer": "ipython3",
   "version": "3.9.10"
  }
 },
 "nbformat": 4,
 "nbformat_minor": 2
}
